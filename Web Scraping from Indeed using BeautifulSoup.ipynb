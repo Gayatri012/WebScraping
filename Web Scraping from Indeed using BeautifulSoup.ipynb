{
 "cells": [
  {
   "cell_type": "code",
   "execution_count": 2,
   "metadata": {},
   "outputs": [],
   "source": [
    "# Reference : https://medium.com/@msalmon00/web-scraping-job-postings-from-indeed-96bd588dcb4b\n",
    "# For web scraping from Indeed when you have an URL\n",
    "\n",
    "# URL under consideration for Indeed - https://www.indeed.com/jobs?q=data+scientist&l=San+Jose%2C+CA"
   ]
  },
  {
   "cell_type": "code",
   "execution_count": 1,
   "metadata": {},
   "outputs": [],
   "source": [
    "# Import libraries and packages\n",
    "\n",
    "import requests\n",
    "import bs4\n",
    "from bs4 import BeautifulSoup\n",
    "import pandas as pd\n",
    "import time"
   ]
  },
  {
   "cell_type": "code",
   "execution_count": 3,
   "metadata": {},
   "outputs": [],
   "source": [
    "URL = \"https://www.indeed.com/jobs?q=data+scientist&l=San+Jose%2C+CA\"\n",
    "\n",
    "# get the page with URL\n",
    "page = requests.get(URL)\n",
    "\n",
    "# page uses html. Parse content using html parser of BeautifulSoup\n",
    "soup = BeautifulSoup(page.text, \"html.parser\")\n",
    "\n",
    "# Print the parsed information\n",
    "#print(soup.prettify())"
   ]
  },
  {
   "cell_type": "code",
   "execution_count": 4,
   "metadata": {},
   "outputs": [],
   "source": [
    "def extract_job_title(html_text):\n",
    "    jobs = []\n",
    "    for div in html_text.find_all(name=\"div\", attrs={\"class\":\"row\"}):\n",
    "        for a in div.find_all(name=\"a\", attrs={\"data-tn-element\":\"jobTitle\"}):\n",
    "            jobs.append(a[\"title\"])\n",
    "    return jobs\n",
    "\n",
    "job_titles = extract_job_title(soup)"
   ]
  },
  {
   "cell_type": "code",
   "execution_count": 6,
   "metadata": {},
   "outputs": [
    {
     "data": {
      "text/plain": [
       "['Data Scientist Intern',\n",
       " 'Data Scientists & Analytics Consultants (Relocation) - BHJOB4699_404',\n",
       " 'Principal Data Scientist I',\n",
       " 'Machine Learning Scientist at a hot AI startup',\n",
       " 'Data scientist',\n",
       " 'Data Scientist',\n",
       " 'Siri - Data Scientist, Data organization',\n",
       " 'Data Scientist',\n",
       " 'Data Scientist',\n",
       " 'Data Scientist (Outward, Inc.)',\n",
       " 'Data Scientist Intern',\n",
       " 'Data Scientist',\n",
       " 'Data Scientist',\n",
       " 'Data Scientist - New College Grad',\n",
       " 'Business Analyst & Solution Engineers',\n",
       " 'Data Scientist, People Analytics']"
      ]
     },
     "execution_count": 6,
     "metadata": {},
     "output_type": "execute_result"
    }
   ],
   "source": [
    "#soup.find_all(name=\"div\", attrs={\"class\":\"row\"})\n",
    "job_titles"
   ]
  },
  {
   "cell_type": "code",
   "execution_count": 5,
   "metadata": {},
   "outputs": [],
   "source": [
    "def extract_company_name(html_text):\n",
    "    companies = []\n",
    "    for div in html_text.find_all(name=\"div\", attrs={\"class\":\"row\"}):\n",
    "        company = div.find_all(name=\"span\", attrs={\"class\":\"company\"})\n",
    "        if len(company) > 0:\n",
    "            for x in company:\n",
    "                companies.append(x.text.strip())\n",
    "            else:\n",
    "                company_1 = div.find_all(name=\"span\",attrs={\"class\":\"result-link-source\"})\n",
    "                for y in company_1:\n",
    "                    companies.append(y.text.strip())\n",
    "                \n",
    "    return companies\n",
    "\n",
    "companies = extract_company_name(soup)"
   ]
  },
  {
   "cell_type": "code",
   "execution_count": 8,
   "metadata": {},
   "outputs": [
    {
     "data": {
      "text/plain": [
       "16"
      ]
     },
     "execution_count": 8,
     "metadata": {},
     "output_type": "execute_result"
    }
   ],
   "source": [
    "len(companies)"
   ]
  },
  {
   "cell_type": "code",
   "execution_count": 27,
   "metadata": {},
   "outputs": [],
   "source": [
    "a = soup.find_all(name=\"div\", attrs={\"class\":[\"companyInfoWrapper\", \"sjcl\"]})"
   ]
  },
  {
   "cell_type": "code",
   "execution_count": 46,
   "metadata": {},
   "outputs": [],
   "source": [
    "#a"
   ]
  },
  {
   "cell_type": "code",
   "execution_count": 44,
   "metadata": {
    "scrolled": true
   },
   "outputs": [
    {
     "name": "stdout",
     "output_type": "stream",
     "text": [
      "['Milpitas, CA', 'San Jose, CA', 'San Jose, CA', 'Menlo Park, CA', 'San Jose, CA', 'Santa Clara, CA', 'Santa Clara Valley, CA', 'Santa Clara Valley, CA', 'Santa Clara, CA', 'San Jose, CA 95112 (Downtown area)', 'San Jose, CA', 'San Jose, CA', 'San Jose, CA', 'Sunnyvale, CA 94089', 'Sunnyvale, CA', 'San Jose, CA']\n"
     ]
    }
   ],
   "source": [
    "locations = []\n",
    "for span in a:\n",
    "    x=span.find(name=\"span\", attrs={\"class\":\"location\"}) \n",
    "    if x is not None:\n",
    "        locations.append(x.text.strip())\n",
    "    else:\n",
    "        y=span.find(name=\"div\", attrs={\"class\":\"location\"})\n",
    "        locations.append(y.text.strip())\n",
    "\n",
    "print(locations)"
   ]
  },
  {
   "cell_type": "code",
   "execution_count": 45,
   "metadata": {},
   "outputs": [
    {
     "data": {
      "text/plain": [
       "16"
      ]
     },
     "execution_count": 45,
     "metadata": {},
     "output_type": "execute_result"
    }
   ],
   "source": [
    "len(locations)"
   ]
  },
  {
   "cell_type": "code",
   "execution_count": null,
   "metadata": {},
   "outputs": [],
   "source": [
    "for span in a:\n",
    "    print(span)\n",
    "    print(\".................\")\n",
    "    x=span.find(name=\"span\", attrs={\"class\":\"location\"}) \n",
    "    print(x)\n",
    "    if x is not None:\n",
    "        #print(x.find(name=\"span\", attrs={\"class\":\"location\"}))\n",
    "        print(x.text.strip())\n",
    "    else:\n",
    "        y=span.find(name=\"div\", attrs={\"class\":\"location\"})\n",
    "        print(y.text.strip())\n",
    "    print(\".................\")\n",
    "    print(\".................\")\n",
    "    "
   ]
  },
  {
   "cell_type": "code",
   "execution_count": 6,
   "metadata": {},
   "outputs": [],
   "source": [
    "def extract_location(html_text):\n",
    "    locations = []\n",
    "    for span in html_text.find_all(name=\"div\", attrs={\"class\":[\"companyInfoWrapper\", \"sjcl\"]}):\n",
    "        x=span.find(name=\"span\", attrs={\"class\":\"location\"}) \n",
    "        if x is not None:\n",
    "            locations.append(x.text.strip())\n",
    "        else:\n",
    "            y=span.find(name=\"div\", attrs={\"class\":\"location\"})\n",
    "            locations.append(y.text.strip())\n",
    "    return locations\n",
    "\n",
    "locations = extract_location(soup)"
   ]
  },
  {
   "cell_type": "code",
   "execution_count": 49,
   "metadata": {},
   "outputs": [
    {
     "data": {
      "text/plain": [
       "['Milpitas, CA',\n",
       " 'San Jose, CA',\n",
       " 'San Jose, CA',\n",
       " 'Menlo Park, CA',\n",
       " 'San Jose, CA',\n",
       " 'Santa Clara, CA',\n",
       " 'Santa Clara Valley, CA',\n",
       " 'Santa Clara Valley, CA',\n",
       " 'Santa Clara, CA',\n",
       " 'San Jose, CA 95112 (Downtown area)',\n",
       " 'San Jose, CA',\n",
       " 'San Jose, CA',\n",
       " 'San Jose, CA',\n",
       " 'Sunnyvale, CA 94089',\n",
       " 'Sunnyvale, CA',\n",
       " 'San Jose, CA']"
      ]
     },
     "execution_count": 49,
     "metadata": {},
     "output_type": "execute_result"
    }
   ],
   "source": [
    "locations"
   ]
  },
  {
   "cell_type": "code",
   "execution_count": 19,
   "metadata": {},
   "outputs": [],
   "source": [
    "# Would not return salary for Sponsored jobs. Need an example to see if sponsored jobs salaries are in div or span\n",
    "def extract_salary(html_text):\n",
    "    salaries = []\n",
    "    for div in html_text.find_all(name=\"div\", attrs={\"class\":\"row\"}):\n",
    "        sal = div.find(\"span\", attrs={\"class\":\"salary no-wrap\"})\n",
    "        if sal is None:\n",
    "            salaries.append(\"Salary Not Found\")\n",
    "        else:\n",
    "            salary = sal.find(\"span\",attrs={\"class\":\"salary no-wrap\"})\n",
    "            salaries.append(sal.text.strip())\n",
    "    return(salaries)\n",
    "\n",
    "salaries = extract_salary(soup)"
   ]
  },
  {
   "cell_type": "code",
   "execution_count": 20,
   "metadata": {},
   "outputs": [
    {
     "data": {
      "text/plain": [
       "['Salary Not Found',\n",
       " 'Salary Not Found',\n",
       " '$90,000 - $110,000 a year',\n",
       " 'Salary Not Found',\n",
       " 'Salary Not Found',\n",
       " 'Salary Not Found',\n",
       " '$50 - $60 an hour',\n",
       " 'Salary Not Found',\n",
       " 'Salary Not Found',\n",
       " 'Salary Not Found',\n",
       " 'Salary Not Found',\n",
       " 'Salary Not Found',\n",
       " 'Salary Not Found',\n",
       " 'Salary Not Found',\n",
       " 'Salary Not Found',\n",
       " '$75,000 - $135,000 a year',\n",
       " 'Salary Not Found']"
      ]
     },
     "execution_count": 20,
     "metadata": {},
     "output_type": "execute_result"
    }
   ],
   "source": [
    "salaries"
   ]
  },
  {
   "cell_type": "code",
   "execution_count": 12,
   "metadata": {},
   "outputs": [
    {
     "name": "stdout",
     "output_type": "stream",
     "text": [
      "..........\n",
      "[]\n",
      "..........\n",
      "[]\n",
      "..........\n",
      "[<span class=\"salary no-wrap\">\n",
      "                $90,000 - $110,000 a year</span>]\n",
      "..........\n",
      "[]\n",
      "..........\n",
      "[]\n",
      "..........\n",
      "[]\n",
      "..........\n",
      "[<span class=\"salary no-wrap\">\n",
      "                $50 - $60 an hour</span>]\n",
      "..........\n",
      "[]\n",
      "..........\n",
      "[]\n",
      "..........\n",
      "[]\n",
      "..........\n",
      "[]\n",
      "..........\n",
      "[]\n",
      "..........\n",
      "[]\n",
      "..........\n",
      "[]\n",
      "..........\n",
      "[]\n",
      "..........\n",
      "[<span class=\"salary no-wrap\">\n",
      "                $75,000 - $135,000 a year</span>]\n",
      "..........\n",
      "[]\n"
     ]
    }
   ],
   "source": [
    "rows = soup.find_all(name=\"div\", attrs={\"class\":\"row\"})\n",
    "for div in rows: #attrs={\"class\":\"salary no-wrap\"}):\n",
    "    span = div.find_all(\"span\", attrs={\"class\":\"salary no-wrap\"})\n",
    "    print(\"..........\")\n",
    "    print(span)\n",
    "    "
   ]
  },
  {
   "cell_type": "code",
   "execution_count": 53,
   "metadata": {},
   "outputs": [
    {
     "data": {
      "text/plain": [
       "[<span class=\"salary no-wrap\">\n",
       "                 $75,000 - $135,000 a year</span>,\n",
       " <span class=\"salary no-wrap\">\n",
       "                 $50 - $60 an hour</span>,\n",
       " <span class=\"salary no-wrap\">\n",
       "                 $100,000 - $120,000 a year</span>]"
      ]
     },
     "execution_count": 53,
     "metadata": {},
     "output_type": "execute_result"
    }
   ],
   "source": [
    "#soup.find_all(\"div\", attrs={\"class\":\"salarySnippet\"})\n",
    "soup.find_all(\"span\", attrs={\"class\":\"salary no-wrap\"})"
   ]
  },
  {
   "cell_type": "code",
   "execution_count": 21,
   "metadata": {},
   "outputs": [],
   "source": [
    "def extract_summary(html_text): \n",
    "    summaries = []\n",
    "    spans = html_text.findAll(\"span\", attrs={\"class\": \"summary\"})\n",
    "    for span in spans:\n",
    "        summaries.append(span.text.strip())\n",
    "    return(summaries)\n",
    "\n",
    "summaries = extract_summary(soup)"
   ]
  },
  {
   "cell_type": "code",
   "execution_count": 22,
   "metadata": {},
   "outputs": [
    {
     "data": {
      "text/plain": [
       "['The development and execution of new machine learning predictive modeling algorithms, the coding\\\\development of tools that use machine learning/predictive...',\n",
       " '5+ years experience in analytics and data science; We believe that behind every number is a person and a story, and that our job is to use data, reporting,...',\n",
       " \"Master's degree on Statistics, Data Science, Finance or Marketing. The ideal candidate will be responsible for providing strategic recommendations based off of...\",\n",
       " 'Alternatively, the principle data scientist may have little or no scientific expertise in that particular domain but bring an extremely advanced set of skills...',\n",
       " 'Masters or higher degree in applied math, statistics, machine learning, computer science or relevant subject....',\n",
       " 'Conceptual understanding in Machine Learning models like Nai¨ve Bayes, K-Means, SVM, Apriori, Linear/ Logistic Regression, Neural, Random Forests, Decision...',\n",
       " 'Hands on experience in implementation of Data Science project from start to finish. Data Scientist with experience in ML/Stats & Deeplearning Expertise in at...',\n",
       " 'As a Data Scientist, you will analyze vast volumes of human behavioral data (web browsing, lab perceptual tests, brand lift studies) to discover meaningful...',\n",
       " 'Build analytic, visualization, and other information products with a drive to automate and scale the insights available to science and engineering teams....',\n",
       " 'We value your ongoing learning of new technologies and methods across data science, data engineering, and data visualization....',\n",
       " 'Advanced degree in Machine Learning, Computer Science, Electrical Engineering, Physics, Statistics, Applied Math or other quantitative fields from a reputed...',\n",
       " 'Data mining using state-of-the-art methods. Can build & manage a large amount of data pipelines as it contains to client web performance....',\n",
       " 'R or scala programming, SQL experience. Identify, analyze and interpret trends or pattern in complex data sets, including telemetry from storage arrays and...',\n",
       " 'Collaborate with other research scientists and engineers to formulate innovative solutions to experiment and implement advanced data mining techniques....',\n",
       " 'You will be working with a team of highly skilled and motivated data scientists and machine learning engineers....',\n",
       " 'Your background may be in consulting (Management or Big 4), banking, insurance, telecommunications, utilities, dealing with large amounts of customer or...',\n",
       " 'Your primary focus will be in applying data mining techniques, doing statistical analysis, and building high quality prediction systems integrated with our...']"
      ]
     },
     "execution_count": 22,
     "metadata": {},
     "output_type": "execute_result"
    }
   ],
   "source": [
    "summaries"
   ]
  },
  {
   "cell_type": "code",
   "execution_count": 27,
   "metadata": {},
   "outputs": [
    {
     "data": {
      "text/html": [
       "<div>\n",
       "<style scoped>\n",
       "    .dataframe tbody tr th:only-of-type {\n",
       "        vertical-align: middle;\n",
       "    }\n",
       "\n",
       "    .dataframe tbody tr th {\n",
       "        vertical-align: top;\n",
       "    }\n",
       "\n",
       "    .dataframe thead th {\n",
       "        text-align: right;\n",
       "    }\n",
       "</style>\n",
       "<table border=\"1\" class=\"dataframe\">\n",
       "  <thead>\n",
       "    <tr style=\"text-align: right;\">\n",
       "      <th></th>\n",
       "      <th>Job Title</th>\n",
       "      <th>Company Name</th>\n",
       "      <th>Location</th>\n",
       "      <th>Summary</th>\n",
       "      <th>Salary</th>\n",
       "    </tr>\n",
       "  </thead>\n",
       "  <tbody>\n",
       "  </tbody>\n",
       "</table>\n",
       "</div>"
      ],
      "text/plain": [
       "Empty DataFrame\n",
       "Columns: [Job Title, Company Name, Location, Summary, Salary]\n",
       "Index: []"
      ]
     },
     "execution_count": 27,
     "metadata": {},
     "output_type": "execute_result"
    }
   ],
   "source": [
    "# Write results to dataframe\n",
    "columns = [\"Job Title\", \"Company Name\", \"Location\", \"Summary\", \"Salary\"]\n",
    "result_df = pd.DataFrame(columns = columns)\n",
    "\n",
    "result_df"
   ]
  },
  {
   "cell_type": "code",
   "execution_count": 28,
   "metadata": {},
   "outputs": [
    {
     "data": {
      "text/html": [
       "<div>\n",
       "<style scoped>\n",
       "    .dataframe tbody tr th:only-of-type {\n",
       "        vertical-align: middle;\n",
       "    }\n",
       "\n",
       "    .dataframe tbody tr th {\n",
       "        vertical-align: top;\n",
       "    }\n",
       "\n",
       "    .dataframe thead th {\n",
       "        text-align: right;\n",
       "    }\n",
       "</style>\n",
       "<table border=\"1\" class=\"dataframe\">\n",
       "  <thead>\n",
       "    <tr style=\"text-align: right;\">\n",
       "      <th></th>\n",
       "      <th>Job Title</th>\n",
       "      <th>Company Name</th>\n",
       "      <th>Location</th>\n",
       "      <th>Summary</th>\n",
       "      <th>Salary</th>\n",
       "    </tr>\n",
       "  </thead>\n",
       "  <tbody>\n",
       "    <tr>\n",
       "      <th>0</th>\n",
       "      <td>Junior Data Scientist</td>\n",
       "      <td>Allstate</td>\n",
       "      <td>Menlo Park, CA 94025</td>\n",
       "      <td>The development and execution of new machine l...</td>\n",
       "      <td>Salary Not Found</td>\n",
       "    </tr>\n",
       "    <tr>\n",
       "      <th>1</th>\n",
       "      <td>Data Scientist, People Analytics</td>\n",
       "      <td>eBay Inc.</td>\n",
       "      <td>San Jose, CA</td>\n",
       "      <td>5+ years experience in analytics and data scie...</td>\n",
       "      <td>Salary Not Found</td>\n",
       "    </tr>\n",
       "    <tr>\n",
       "      <th>2</th>\n",
       "      <td>Statistical Analyst for Marketing</td>\n",
       "      <td>Resure Technology</td>\n",
       "      <td>Santa Clara, CA 95050</td>\n",
       "      <td>Master's degree on Statistics, Data Science, F...</td>\n",
       "      <td>$90,000 - $110,000 a year</td>\n",
       "    </tr>\n",
       "    <tr>\n",
       "      <th>3</th>\n",
       "      <td>Principal Data Scientist I</td>\n",
       "      <td>Roche</td>\n",
       "      <td>San Jose, CA</td>\n",
       "      <td>Alternatively, the principle data scientist ma...</td>\n",
       "      <td>Salary Not Found</td>\n",
       "    </tr>\n",
       "    <tr>\n",
       "      <th>4</th>\n",
       "      <td>Data Scientist</td>\n",
       "      <td>Akamai</td>\n",
       "      <td>Santa Clara, CA</td>\n",
       "      <td>Masters or higher degree in applied math, stat...</td>\n",
       "      <td>Salary Not Found</td>\n",
       "    </tr>\n",
       "    <tr>\n",
       "      <th>5</th>\n",
       "      <td>Data scientist</td>\n",
       "      <td>Avila Trading</td>\n",
       "      <td>San Jose, CA</td>\n",
       "      <td>Conceptual understanding in Machine Learning m...</td>\n",
       "      <td>Salary Not Found</td>\n",
       "    </tr>\n",
       "    <tr>\n",
       "      <th>6</th>\n",
       "      <td>Data Scientist</td>\n",
       "      <td>vysystems</td>\n",
       "      <td>Santa Clara, CA</td>\n",
       "      <td>Hands on experience in implementation of Data ...</td>\n",
       "      <td>$50 - $60 an hour</td>\n",
       "    </tr>\n",
       "    <tr>\n",
       "      <th>7</th>\n",
       "      <td>Data Scientist</td>\n",
       "      <td>Invisibly</td>\n",
       "      <td>Palo Alto, CA</td>\n",
       "      <td>As a Data Scientist, you will analyze vast vol...</td>\n",
       "      <td>Salary Not Found</td>\n",
       "    </tr>\n",
       "    <tr>\n",
       "      <th>8</th>\n",
       "      <td>Siri - Data Scientist, Data organization</td>\n",
       "      <td>Apple</td>\n",
       "      <td>Santa Clara Valley, CA</td>\n",
       "      <td>Build analytic, visualization, and other infor...</td>\n",
       "      <td>Salary Not Found</td>\n",
       "    </tr>\n",
       "    <tr>\n",
       "      <th>9</th>\n",
       "      <td>Data Scientist</td>\n",
       "      <td>Apple</td>\n",
       "      <td>Santa Clara Valley, CA</td>\n",
       "      <td>We value your ongoing learning of new technolo...</td>\n",
       "      <td>Salary Not Found</td>\n",
       "    </tr>\n",
       "    <tr>\n",
       "      <th>10</th>\n",
       "      <td>Data Scientist</td>\n",
       "      <td>Palo Alto Networks</td>\n",
       "      <td>Santa Clara, CA</td>\n",
       "      <td>Advanced degree in Machine Learning, Computer ...</td>\n",
       "      <td>Salary Not Found</td>\n",
       "    </tr>\n",
       "    <tr>\n",
       "      <th>11</th>\n",
       "      <td>Data Scientist (Outward, Inc.)</td>\n",
       "      <td>Williams-Sonoma, Inc.</td>\n",
       "      <td>San Jose, CA 95112 (Downtown area)</td>\n",
       "      <td>Data mining using state-of-the-art methods. Ca...</td>\n",
       "      <td>Salary Not Found</td>\n",
       "    </tr>\n",
       "    <tr>\n",
       "      <th>12</th>\n",
       "      <td>Data Scientist Intern</td>\n",
       "      <td>Hewlett Packard Enterprise</td>\n",
       "      <td>San Jose, CA</td>\n",
       "      <td>R or scala programming, SQL experience. Identi...</td>\n",
       "      <td>Salary Not Found</td>\n",
       "    </tr>\n",
       "    <tr>\n",
       "      <th>13</th>\n",
       "      <td>Data Scientist</td>\n",
       "      <td>Paypal</td>\n",
       "      <td>San Jose, CA</td>\n",
       "      <td>Collaborate with other research scientists and...</td>\n",
       "      <td>Salary Not Found</td>\n",
       "    </tr>\n",
       "    <tr>\n",
       "      <th>14</th>\n",
       "      <td>Data Scientist</td>\n",
       "      <td>AppZen</td>\n",
       "      <td>San Jose, CA</td>\n",
       "      <td>You will be working with a team of highly skil...</td>\n",
       "      <td>Salary Not Found</td>\n",
       "    </tr>\n",
       "    <tr>\n",
       "      <th>15</th>\n",
       "      <td>Data Scientists &amp; Analytics Consultants (Reloc...</td>\n",
       "      <td>Carrington King Pty Ltd</td>\n",
       "      <td>San Jose, CA</td>\n",
       "      <td>Your background may be in consulting (Manageme...</td>\n",
       "      <td>$75,000 - $135,000 a year</td>\n",
       "    </tr>\n",
       "    <tr>\n",
       "      <th>16</th>\n",
       "      <td>Data Scientist Intern</td>\n",
       "      <td>Lumentum Operations LLC</td>\n",
       "      <td>Milpitas, CA</td>\n",
       "      <td>Your primary focus will be in applying data mi...</td>\n",
       "      <td>Salary Not Found</td>\n",
       "    </tr>\n",
       "  </tbody>\n",
       "</table>\n",
       "</div>"
      ],
      "text/plain": [
       "                                            Job Title  \\\n",
       "0                               Junior Data Scientist   \n",
       "1                    Data Scientist, People Analytics   \n",
       "2                   Statistical Analyst for Marketing   \n",
       "3                          Principal Data Scientist I   \n",
       "4                                      Data Scientist   \n",
       "5                                      Data scientist   \n",
       "6                                      Data Scientist   \n",
       "7                                      Data Scientist   \n",
       "8            Siri - Data Scientist, Data organization   \n",
       "9                                      Data Scientist   \n",
       "10                                     Data Scientist   \n",
       "11                     Data Scientist (Outward, Inc.)   \n",
       "12                              Data Scientist Intern   \n",
       "13                                     Data Scientist   \n",
       "14                                     Data Scientist   \n",
       "15  Data Scientists & Analytics Consultants (Reloc...   \n",
       "16                              Data Scientist Intern   \n",
       "\n",
       "                  Company Name                            Location  \\\n",
       "0                     Allstate                Menlo Park, CA 94025   \n",
       "1                    eBay Inc.                        San Jose, CA   \n",
       "2            Resure Technology               Santa Clara, CA 95050   \n",
       "3                        Roche                        San Jose, CA   \n",
       "4                       Akamai                     Santa Clara, CA   \n",
       "5                Avila Trading                        San Jose, CA   \n",
       "6                    vysystems                     Santa Clara, CA   \n",
       "7                    Invisibly                       Palo Alto, CA   \n",
       "8                        Apple              Santa Clara Valley, CA   \n",
       "9                        Apple              Santa Clara Valley, CA   \n",
       "10          Palo Alto Networks                     Santa Clara, CA   \n",
       "11       Williams-Sonoma, Inc.  San Jose, CA 95112 (Downtown area)   \n",
       "12  Hewlett Packard Enterprise                        San Jose, CA   \n",
       "13                      Paypal                        San Jose, CA   \n",
       "14                      AppZen                        San Jose, CA   \n",
       "15     Carrington King Pty Ltd                        San Jose, CA   \n",
       "16     Lumentum Operations LLC                        Milpitas, CA   \n",
       "\n",
       "                                              Summary  \\\n",
       "0   The development and execution of new machine l...   \n",
       "1   5+ years experience in analytics and data scie...   \n",
       "2   Master's degree on Statistics, Data Science, F...   \n",
       "3   Alternatively, the principle data scientist ma...   \n",
       "4   Masters or higher degree in applied math, stat...   \n",
       "5   Conceptual understanding in Machine Learning m...   \n",
       "6   Hands on experience in implementation of Data ...   \n",
       "7   As a Data Scientist, you will analyze vast vol...   \n",
       "8   Build analytic, visualization, and other infor...   \n",
       "9   We value your ongoing learning of new technolo...   \n",
       "10  Advanced degree in Machine Learning, Computer ...   \n",
       "11  Data mining using state-of-the-art methods. Ca...   \n",
       "12  R or scala programming, SQL experience. Identi...   \n",
       "13  Collaborate with other research scientists and...   \n",
       "14  You will be working with a team of highly skil...   \n",
       "15  Your background may be in consulting (Manageme...   \n",
       "16  Your primary focus will be in applying data mi...   \n",
       "\n",
       "                       Salary  \n",
       "0            Salary Not Found  \n",
       "1            Salary Not Found  \n",
       "2   $90,000 - $110,000 a year  \n",
       "3            Salary Not Found  \n",
       "4            Salary Not Found  \n",
       "5            Salary Not Found  \n",
       "6           $50 - $60 an hour  \n",
       "7            Salary Not Found  \n",
       "8            Salary Not Found  \n",
       "9            Salary Not Found  \n",
       "10           Salary Not Found  \n",
       "11           Salary Not Found  \n",
       "12           Salary Not Found  \n",
       "13           Salary Not Found  \n",
       "14           Salary Not Found  \n",
       "15  $75,000 - $135,000 a year  \n",
       "16           Salary Not Found  "
      ]
     },
     "execution_count": 28,
     "metadata": {},
     "output_type": "execute_result"
    }
   ],
   "source": [
    "result_df['Job Title'] = job_titles\n",
    "result_df['Company Name'] = companies\n",
    "result_df['Location'] = locations\n",
    "result_df['Summary'] = summaries\n",
    "result_df['Salary'] = salaries\n",
    "\n",
    "result_df"
   ]
  },
  {
   "cell_type": "code",
   "execution_count": 30,
   "metadata": {},
   "outputs": [],
   "source": [
    "# Write result to a csv file\n",
    "result_df.to_csv(\"result_job_portal.csv\", index=False)"
   ]
  },
  {
   "cell_type": "code",
   "execution_count": 23,
   "metadata": {},
   "outputs": [],
   "source": [
    "max_results_per_city = 10\n",
    "city_set = [\"New+York\",\"Chicago\",\"San+Francisco\", \"Austin\", \"Seattle\", \"Los+Angeles\", \"Philadelphia\", \"Atlanta\", \"Dallas\", \"Pittsburgh\", \"Portland\", \"Phoenix\", \"Denver\", \"Houston\", \"Miami\", \"Washington+DC\", \"Boulder\"]\n",
    "columns = [\"city\", \"job_title\", \"company_name\", \"location\", \"summary\", \"salary\"]\n",
    "sample_df = pd.DataFrame(columns = columns)"
   ]
  }
 ],
 "metadata": {
  "kernelspec": {
   "display_name": "Python 3",
   "language": "python",
   "name": "python3"
  },
  "language_info": {
   "codemirror_mode": {
    "name": "ipython",
    "version": 3
   },
   "file_extension": ".py",
   "mimetype": "text/x-python",
   "name": "python",
   "nbconvert_exporter": "python",
   "pygments_lexer": "ipython3",
   "version": "3.6.3"
  }
 },
 "nbformat": 4,
 "nbformat_minor": 2
}
